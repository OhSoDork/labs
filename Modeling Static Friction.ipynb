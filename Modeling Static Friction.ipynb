{
 "cells": [
  {
   "cell_type": "code",
   "execution_count": 2,
   "metadata": {
    "collapsed": true
   },
   "outputs": [],
   "source": [
    "%matplotlib inline"
   ]
  },
  {
   "cell_type": "markdown",
   "metadata": {},
   "source": [
    "# OhSoDork? More like OhSoForked! Burn?!"
   ]
  },
  {
   "cell_type": "markdown",
   "metadata": {},
   "source": [
    "### Introduction:"
   ]
  },
  {
   "cell_type": "markdown",
   "metadata": {},
   "source": [
    "From everyday experience, we know that it takes a certain amount of force to overcome friction and get an object sliding. The goal of this investigation is to model the dependence of this maximum static frictional force on the mass of the object in question."
   ]
  },
  {
   "cell_type": "markdown",
   "metadata": {},
   "source": [
    "### Procedure:"
   ]
  },
  {
   "cell_type": "markdown",
   "metadata": {},
   "source": [
    "We attached a spring scale to the side of a hollow box on a level surface. Adding additional masses, we measured the amount of force it took to get the box to begin to slide. "
   ]
  },
  {
   "cell_type": "markdown",
   "metadata": {},
   "source": [
    "<figure>\n",
    "    <img src=\"img/Friction Apparatus.png\" width=400px/>\n",
    "    <figcaption style=\"text-align:center; font-size: 12px\">Fig. 1 - Sketch of the apparatus</figcaption>\n",
    "</figure>"
   ]
  },
  {
   "cell_type": "markdown",
   "metadata": {},
   "source": [
    "<figure>\n",
    "    <img src=\"img/Apparatus Photo.jpg\" width=400px/>\n",
    "    <figcaption style=\"text-align:center; font-size: 12px;\">Fig. 2 - Photo of the apparatus</figcaption>\n",
    "</figure>"
   ]
  },
  {
   "cell_type": "markdown",
   "metadata": {
    "collapsed": true
   },
   "source": [
    "### Data and Analysis:"
   ]
  },
  {
   "cell_type": "markdown",
   "metadata": {},
   "source": [
    "| $m_{grams}$   | $F_{flat}$  | $i_{incline}$   \n",
    "|-----|-------|------|\n",
    "| 100   | .5    | .65|\n",
    "|200 | .85| 1.25|\n",
    "|300|1.20| 1.90|\n",
    "|400|1.60| 1.45|\n",
    "|500|2| 2.35|\n",
    "|600|2.25|3.20|\n",
    "\n",
    "| $Fn_{Normal Force}$\n",
    "|--|\n",
    "|.08|\n",
    "|.16|\n",
    "|.24|\n",
    "|.32|\n",
    "|.41|\n",
    "|.49|\n",
    "\n"
   ]
  },
  {
   "cell_type": "code",
   "execution_count": 12,
   "metadata": {
    "collapsed": false
   },
   "outputs": [
    {
     "data": {
      "image/png": "[encoded data removed]",
      "text/plain": [
       "<matplotlib.figure.Figure at 0x5f995f8>"
      ]
     },
     "metadata": {},
     "output_type": "display_data"
    },
    {
     "name": "stdout",
     "output_type": "stream",
     "text": [
      "0.160074627407 -0.00480099621187\n"
     ]
    },
    {
     "data": {
      "image/png": "[encoded data removed]",
      "text/plain": [
       "<matplotlib.figure.Figure at 0x5f5bb70>"
      ]
     },
     "metadata": {},
     "output_type": "display_data"
    }
   ],
   "source": [
    "import matplotlib.pyplot as plt\n",
    "import numpy as np\n",
    "from scipy.optimize import curve_fit\n",
    "\n",
    "m = [100,200,300,400,500,600]\n",
    "f = [.5,.85,1.20,1.60,2,2.25]\n",
    "i = [.65,1.25,1.90,1.45,2.35,3.20]\n",
    "\n",
    "mm = np.linspace(-500, 700, 500)\n",
    "\n",
    "def linear(x, a, b):\n",
    "    return a*x + b \n",
    "\n",
    "a, b = curve_fit(linear, m, f)[0]\n",
    "c, d = curve_fit(linear, m, i)[0]\n",
    "\n",
    "plt.xlim(0,700)\n",
    "\n",
    "plt.ylim(0,3)\n",
    "plt.title(\"Modeling Static Friction\")\n",
    "plt.xlabel(\"Mass Added (g)\")\n",
    "plt.ylabel(\"Max Frictional Force\")\n",
    "plt.plot(m, f, '.')\n",
    "plt.plot(m, i, '.')\n",
    "plt.plot(mm, linear(mm, a, b), '--')\n",
    "plt.plot(mm, linear(mm, c, d), '--')\n",
    "plt.show()\n",
    "\n",
    "Fs = [.65,1.25,1.90,1.45,2.35,3.20]\n",
    "fn = [.08,.16,.24,.32,.41,.49]\n",
    "\n",
    "mm = np.linspace(-500, 700, 500)\n",
    "\n",
    "def linear(x, a, b):\n",
    "    return a*x + b \n",
    "\n",
    "a, b = curve_fit(linear, Fs, fn)[0]\n",
    "print(a, b)\n",
    "\n",
    "plt.xlim(0,4)\n",
    "plt.ylim(0,3)\n",
    "plt.title(\"Modeling Static Friction\")\n",
    "plt.xlabel(\"Frictional Force\")\n",
    "plt.ylabel(\"Normal Force\")\n",
    "plt.plot(Fs, fn, '.')\n",
    "plt.plot(mm, linear(mm, a, b), '--')\n",
    "plt.show()\n"
   ]
  },
  {
   "cell_type": "markdown",
   "metadata": {
    "collapsed": true
   },
   "source": [
    "## Conclusion: \n",
    "We measured friction by pulling a box with a scale while measuring in newtons.  We used a box and repeatedly added 100 grams after recording how many newtons each mass required.  We measured first on flatground and then we made a ramp so that we can repeat the same process on an incline.  Why we did this is because we wanted to test whether our theory on static friction would be the same on flatground and an incline.  We learned that measuing on an inlcine invloves more adjustment then measuring on flatground."
   ]
  }
 ],
 "metadata": {
  "anaconda-cloud": {},
  "kernelspec": {
   "display_name": "Python [default]",
   "language": "python",
   "name": "python3"
  },
  "language_info": {
   "codemirror_mode": {
    "name": "ipython",
    "version": 3
   },
   "file_extension": ".py",
   "mimetype": "text/x-python",
   "name": "python",
   "nbconvert_exporter": "python",
   "pygments_lexer": "ipython3",
   "version": "3.5.2"
  }
 },
 "nbformat": 4,
 "nbformat_minor": 1
}
